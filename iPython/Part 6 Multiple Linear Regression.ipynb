{
 "cells": [
  {
   "cell_type": "code",
   "execution_count": 3,
   "metadata": {},
   "outputs": [],
   "source": [
    "# import library\n",
    "import numpy as np\n",
    "import pandas as pd\n",
    "import numpy as np\n",
    "from sklearn.preprocessing import PolynomialFeatures\n",
    "from sklearn import linear_model"
   ]
  },
  {
   "cell_type": "code",
   "execution_count": 2,
   "metadata": {},
   "outputs": [],
   "source": [
    "# std\n",
    "def stdError_func(y_test, y):\n",
    "  return np.sqrt(np.mean((y_test - y) ** 2))\n",
    "# Ratio of mean square error\n",
    "def R2_1_func(y_test, y):\n",
    "  return 1 - ((y_test - y) ** 2).sum() / ((y.mean() - y) ** 2).sum()\n",
    "# Ratio of root mean square error\n",
    "def R2_2_func(y_test, y):\n",
    "  y_mean = np.array(y)\n",
    "  y_mean[:] = y.mean()\n",
    "  return 1 - stdError_func(y_test, y) / stdError_func(y_mean, y)"
   ]
  },
  {
   "cell_type": "code",
   "execution_count": 5,
   "metadata": {},
   "outputs": [
    {
     "name": "stdout",
     "output_type": "stream",
     "text": [
      "(128, 3)\n",
      "model coefficients [[0.60995154 0.76321628 0.27883231]]\n",
      "model intercept [-55.68898622]\n",
      "strError=5.96, R2_1=0.74,  R2_2=0.49, clf.score=0.74\n"
     ]
    }
   ],
   "source": [
    "# Training multiple linear regression models\n",
    "filename = r\"C:\\Users\\Think\\Desktop\\test\\heading_215_60%.csv\"\n",
    "df= pd.read_csv(filename)\n",
    "x = np.array(df.iloc[:,4:7].values)\n",
    "y = np.array(df.iloc[:,3:4].values)\n",
    "cft = linear_model.LinearRegression()\n",
    "print(x.shape)\n",
    "cft.fit(x, y)\n",
    "\n",
    "print(\"model coefficients\", cft.coef_)\n",
    "print(\"model intercept\", cft.intercept_)\n",
    "\n",
    "\n",
    "predict_y =  cft.predict(x)\n",
    "strError = stdError_func(predict_y, y)\n",
    "R2_1 = R2_1_func(predict_y, y)\n",
    "R2_2 = R2_2_func(predict_y, y)\n",
    "score = cft.score(x, y) #The model evaluation that comes with Sklearn is the same logic as R2_1\n",
    "\n",
    "print('strError={:.2f}, R2_1={:.2f},  R2_2={:.2f}, clf.score={:.2f}'.format(\n",
    "    strError,R2_1,R2_2,score))"
   ]
  },
  {
   "cell_type": "code",
   "execution_count": 6,
   "metadata": {},
   "outputs": [],
   "source": [
    "# The trained model was applied to all varieties\n",
    "filename = r\"C:\\Users\\Think\\Desktop\\test\\heading_242.csv\"\n",
    "df= pd.read_csv(filename)\n",
    "x = np.array(df.iloc[:,4:7].values)\n",
    "predict_y_all =  cft.predict(x)\n",
    "dt = pd.DataFrame(predict_y_all)\n",
    "dt.to_csv(r\"C:\\Users\\Think\\Desktop\\test\\heading_242_predict_days.csv\",encoding=\"gbk\")"
   ]
  },
  {
   "cell_type": "code",
   "execution_count": null,
   "metadata": {},
   "outputs": [],
   "source": []
  }
 ],
 "metadata": {
  "kernelspec": {
   "display_name": "Python 3",
   "language": "python",
   "name": "python3"
  },
  "language_info": {
   "codemirror_mode": {
    "name": "ipython",
    "version": 3
   },
   "file_extension": ".py",
   "mimetype": "text/x-python",
   "name": "python",
   "nbconvert_exporter": "python",
   "pygments_lexer": "ipython3",
   "version": "3.7.6"
  }
 },
 "nbformat": 4,
 "nbformat_minor": 4
}
